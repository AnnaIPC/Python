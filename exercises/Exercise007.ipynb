{
  "cells": [
    {
      "cell_type": "markdown",
      "metadata": {
        "id": "YZyevmLCgYPB"
      },
      "source": [
        "# Exercise 007"
      ]
    },
    {
      "cell_type": "markdown",
      "metadata": {
        "id": "idtNqXkegYPD",
        "tags": []
      },
      "source": [
        "<a href=\"https://colab.research.google.com/github/FAIRChemistry/PythonProgramming2025/blob/master/exercises/Exercise007.ipynb\" target=\"_parent\"><img src=\"https://colab.research.google.com/assets/colab-badge.svg\" alt=\"Open In Colab\"/></a>"
      ]
    },
    {
      "cell_type": "code",
      "execution_count": 137,
      "metadata": {
        "tags": [],
        "colab": {
          "base_uri": "https://localhost:8080/"
        },
        "id": "VCzklj0boynT",
        "outputId": "cd8d885f-1ed6-40e1-df85-e667aae14959"
      },
      "outputs": [
        {
          "output_type": "stream",
          "name": "stdout",
          "text": [
            "--2025-06-24 13:45:06--  https://raw.githubusercontent.com/JR-1991/PythonProgramming2025/master/scripts/utils.py\n",
            "Resolving raw.githubusercontent.com (raw.githubusercontent.com)... 185.199.108.133, 185.199.109.133, 185.199.110.133, ...\n",
            "Connecting to raw.githubusercontent.com (raw.githubusercontent.com)|185.199.108.133|:443... connected.\n",
            "HTTP request sent, awaiting response... 200 OK\n",
            "Length: 1411 (1.4K) [text/plain]\n",
            "Saving to: ‘utils.py.8’\n",
            "\n",
            "\rutils.py.8            0%[                    ]       0  --.-KB/s               \rutils.py.8          100%[===================>]   1.38K  --.-KB/s    in 0s      \n",
            "\n",
            "2025-06-24 13:45:06 (20.6 MB/s) - ‘utils.py.8’ saved [1411/1411]\n",
            "\n",
            "--2025-06-24 13:45:06--  https://raw.githubusercontent.com/JR-1991/PythonProgramming2025/master/data/single_sequence.fasta\n",
            "Resolving raw.githubusercontent.com (raw.githubusercontent.com)... 185.199.108.133, 185.199.109.133, 185.199.111.133, ...\n",
            "Connecting to raw.githubusercontent.com (raw.githubusercontent.com)|185.199.108.133|:443... connected.\n",
            "HTTP request sent, awaiting response... 200 OK\n",
            "Length: 877 [text/plain]\n",
            "Saving to: ‘single_sequence.fasta.8’\n",
            "\n",
            "single_sequence.fas 100%[===================>]     877  --.-KB/s    in 0s      \n",
            "\n",
            "2025-06-24 13:45:06 (53.9 MB/s) - ‘single_sequence.fasta.8’ saved [877/877]\n",
            "\n"
          ]
        }
      ],
      "source": [
        "# Please execute this cell to download the necessary data\n",
        "!wget https://raw.githubusercontent.com/JR-1991/PythonProgramming2025/master/scripts/utils.py\n",
        "!wget https://raw.githubusercontent.com/JR-1991/PythonProgramming2025/master/data/single_sequence.fasta\n",
        "\n",
        "from utils import CODON_TABLE, to_triplets"
      ]
    },
    {
      "cell_type": "markdown",
      "metadata": {
        "id": "XbNx_QaHeEcR"
      },
      "source": [
        "# DNASequence class\n",
        "\n",
        "Construct a `DNASequence` class that contains the following attributes:\n",
        "\n",
        "* `id`\n",
        "* `sequence`\n",
        "* `organism`\n",
        "* `gc_content`\n",
        "* `length`\n",
        "* `reverse_complement`\n",
        "\n",
        "Next, implement methods for your class that perform the following tasks:\n",
        "\n",
        "* `to_amino_acid`: Converts the nucelic acid sequence to an amino acid sequence.\n",
        "* `align`: Takes another sequence and aligns it against the instance sequence.\n",
        "* `__repr__`: Define how the contents of your class should be printed.\n",
        "* `from_fasta`: Define a classmethod that parses a single FASTA entry into your class.\n",
        "\n",
        "Demonstrate your class by parsing the `single_sequence.fasta` file either manually or via the `from_fasta`-classmethod.\n",
        "\n",
        "**Tips**\n",
        "\n",
        "> * Feel free to use the `get_identity`-function of the previous exercise.\n",
        "> * When implementing the `classmethod` make sure to check if the format is correct. We have so far followed the `>[Header]\\n[Sequence]` format.\n",
        "> * Translate your sequence using the supported `to_triplets` function and `CODON_TABLE` dictionary.\n",
        "> * Not familiar with reverse complements? Find more info [here](http://genewarrior.com/docs/exp_revcomp.jsp)\n",
        "> * Dont hesitate using the `dataclass` decorator. It can help you in some ways already. Learn more on how to implement `__post_init__` to maximize customizability [here](https://docs.python.org/3/library/dataclasses.html#post-init-processing)\n",
        "> * Python lacks type validation and thus you do have limited control of what flows into your class. [PyDantic](https://docs.pydantic.dev/latest/) is an excellent tool to solve this and other issues. Try it out to make your life easier!"
      ]
    },
    {
      "cell_type": "code",
      "source": [
        "# Execute this cell to use all packages\n",
        "%pip install biopython\n",
        "\n",
        "from Bio import pairwise2\n",
        "\n",
        "\n",
        "def get_identity(seq1: str, seq2: str):\n",
        "    \"\"\"Aligns two sequences using BioPython\n",
        "\n",
        "    Args:\n",
        "        seq1 (str): Query sequence to align to\n",
        "        seq2 (str): Target sequence to align with\n",
        "\n",
        "    Returns:\n",
        "        float: Identity of the resulting alignment\n",
        "\n",
        "    \"\"\"\n",
        "    return pairwise2.align.globalxx(seq1, seq2, score_only=True) / len(seq1)"
      ],
      "metadata": {
        "colab": {
          "base_uri": "https://localhost:8080/"
        },
        "id": "y296Ry8QIcyz",
        "outputId": "67f5339f-bf7d-4a84-9213-4fd1d927f84c"
      },
      "execution_count": 138,
      "outputs": [
        {
          "output_type": "stream",
          "name": "stdout",
          "text": [
            "Requirement already satisfied: biopython in /usr/local/lib/python3.11/dist-packages (1.85)\n",
            "Requirement already satisfied: numpy in /usr/local/lib/python3.11/dist-packages (from biopython) (2.0.2)\n"
          ]
        }
      ]
    },
    {
      "cell_type": "code",
      "execution_count": 145,
      "metadata": {
        "id": "yubzZtmteEcR",
        "tags": []
      },
      "outputs": [],
      "source": [
        "class DNASequence:\n",
        "    def __init__(self, id: int, organism: str, sequence: str):\n",
        "        self.id = id\n",
        "        self.organism = organism\n",
        "        self.sequence = sequence\n",
        "        self.length = len(self.sequence)\n",
        "        self.gc_content = (self.sequence.count('G') + self.sequence.count('C')) / self.length\n",
        "    def reverse_complement(self):\n",
        "        complement_map = str.maketrans('ATCG', 'TAGC')\n",
        "        return self.sequence.translate(complement_map)\n",
        "    def align(self, other: \"DNASequence\") -> float:\n",
        "        if not isinstance(other, DNASequence):\n",
        "            raise TypeError(\"Alignment must be done with a DNASequence.\")\n",
        "        return get_identity(self.sequence, other.sequence)\n",
        "    def to_amino_acid(self) -> str:\n",
        "        BASES = {\"A\", \"G\", \"C\", \"T\"}\n",
        "\n",
        "        if set(self.sequence) != BASES:\n",
        "           raise ValueError(f\"This sequence contains unknown bases! {set(sequence)}\")\n",
        "\n",
        "        if len(self.sequence) % 3 != 0:\n",
        "            raise ValueError(\"The sequence length should be divisible by 3!\")\n",
        "\n",
        "        amino_seq = []\n",
        "        triplets = to_triplets(self.sequence)\n",
        "\n",
        "        for triplet in triplets:\n",
        "            amino_acid = CODON_TABLE[triplet]\n",
        "            amino_seq.append(amino_acid)\n",
        "\n",
        "        return \"\".join(amino_seq)\n",
        "\n",
        "    def from_fasta(self, file_FASTA):\n",
        "        DNA_sequence = []\n",
        "        data_reading = [line.strip(\">\") for line in open(file_FASTA, \"r\")]\n",
        "        for i in range(0, len(data_reading)):\n",
        "         if i % 2 == 0:\n",
        "            organism = data_reading[i].split(\"|\", 1)[0]\n",
        "            id = data_reading[i].split(\"|\", 1)[1]\n",
        "            sequence = data_reading[i+1]\n",
        "            line = DNASequence(\n",
        "                id=id.strip(),\n",
        "                organism=organism.strip(),\n",
        "                sequence=sequence.strip()\n",
        "                )\n",
        "            DNA_sequence.append(line)\n",
        "            #print(sequence)\n",
        "        return DNA_sequence"
      ]
    },
    {
      "cell_type": "code",
      "source": [
        "#check\n",
        "complement_map = str.maketrans('ATCG', 'TAGC')\n",
        "sequence = \"ATGC\"\n",
        "reverse_complement = sequence.translate(complement_map)\n",
        "print(reverse_complement)  # Output: GCAT\n"
      ],
      "metadata": {
        "colab": {
          "base_uri": "https://localhost:8080/"
        },
        "id": "mBI7SJq_tinW",
        "outputId": "52e886f9-a4d7-4188-cdac-8f8e1df9d405"
      },
      "execution_count": 140,
      "outputs": [
        {
          "output_type": "stream",
          "name": "stdout",
          "text": [
            "TACG\n"
          ]
        }
      ]
    },
    {
      "cell_type": "code",
      "source": [
        "def to_amino_acid(sequence: str) -> str:\n",
        "    \"\"\"Translates a nucleotide sequence into an amino acid sequence.\n",
        "\n",
        "    Args:\n",
        "        sequence (str): A nucelotide sequence.\n",
        "\n",
        "    Returns:\n",
        "        str: The translated amino acid sequence.\n",
        "\n",
        "    \"\"\"\n",
        "\n",
        "    BASES = {\"A\", \"G\", \"C\", \"T\"}\n",
        "\n",
        "    if set(sequence) != BASES:\n",
        "        raise ValueError(f\"This sequence contains unknown bases! {set(sequence)}\")\n",
        "\n",
        "    if len(sequence) % 3 != 0:\n",
        "        raise ValueError(\"The sequence length should be divisible by 3!\")\n",
        "\n",
        "    amino_seq = []\n",
        "    triplets = to_triplets(sequence)\n",
        "\n",
        "    for triplet in triplets:\n",
        "        amino_acid = CODON_TABLE[triplet]\n",
        "        amino_seq.append(amino_acid)\n",
        "\n",
        "    return \"\".join(amino_seq)"
      ],
      "metadata": {
        "id": "deKxmf7HKiWk"
      },
      "execution_count": 141,
      "outputs": []
    },
    {
      "cell_type": "code",
      "source": [
        "dna_sequences = DNASequence.from_fasta(\"single_sequence.fasta\")\n",
        "\n",
        "for dna in dna_sequences:\n",
        "    print(dna)\n",
        "    protein = to_amino_acid(dna.sequence)\n",
        "    print(protein)\n",
        "    print(dna.sequence)\n",
        "    print(\"Reverse complement:\", dna.reverse_complement())\n",
        "dna1 = DNASequence(id=1, organism=\"Human\", sequence=\"ATGCGT\")\n",
        "dna2 = DNASequence(id=2, organism=\"Mouse\", sequence=\"ATGAGT\")\n",
        "print(dna1.align(dna2))"
      ],
      "metadata": {
        "colab": {
          "base_uri": "https://localhost:8080/"
        },
        "id": "fcNAFrAwpQNc",
        "outputId": "d3cf600c-0463-4836-f5e8-c5be9a437e43"
      },
      "execution_count": 144,
      "outputs": [
        {
          "output_type": "stream",
          "name": "stdout",
          "text": [
            "<__main__.DNASequence object at 0x7a0d43cd1cd0>\n",
            "MRSRYLLHQYFVQVQFAAPSPAPTDSMSYIIPYRLSLNINKMNICNT_LSYQL_TKKNHPNLDGFS_FRGTSCADEPLQISKFRLQPKRSGKKHFLPLGC_STHRNVHGSGDAYLHLPRPSPAPGVRSFCFDRAYDPPHLPYRRSRYSLPATYAWCAQG_SPESVERFLPRRRLLFSPWR_AVRSDLSAQSPRERQQRPRYAGTRRGCADRLHRRGSAGTVDRAKRSDPADRFPGTDVLASRGR_CPDARHRRFSRRDIGGLPTG_PRPGTQGRGSAVTDVYLHGLLK_\n",
            "ATGCGTTCTCGCTATTTGTTACATCAATATTTTGTTCAGGTACAGTTTGCAGCGCCGTCGCCAGCGCCAACGGATTCCATGTCATATATTATTCCATATAGATTAAGTTTAAATATTAATAAAATGAATATTTGCAATACGTAATTATCTTACCAGCTATAGACAAAAAAAAACCATCCAAATCTGGATGGCTTTTCATAATTCAGAGGAACTAGCTGCGCTGACGAACCGCTTCAAATAAGCAAATTCCGGTTGCAACCGAAACGTTCAGGGAAGAAACACTTCCTGCCATTGGGATGCTGATCAACTCATCGCAATGTTCACGGGTCAGGCGACGCATACCTTCACCTTCCGCGCCCATCACCAGCGCCAGGCGTCCGGTCATTTTGCTTTGATAGAGCGTATGATCCGCCTCACCTGCCGTACCGACGATCCAGATATTCTCTTCCTGCAACATACGCATGGTGCGCGCAAGGTTAGTCACCCGAATCAGTGGAACGCTTTCTGCCGCGCCGCAGGCTACTTTTTTCGCCGTGGCGTTGAGCTGTGCGGAGCGATCTTTCGGCACAATCACCGCGTGAACGCCAGCAGCGTCCGCGCTACGCAGGCACGCGCCGAGGTTGTGCGGATCGGTTACACCGTCGAGGATCAGCAGGAACGGTTGATCGAGCGAAGCGATCAGATCCGGCAGATCGTTTTCCTGGTACTGACGTCCTGGCTTCACGCGGGCGATAATGCCCTGATGCACGGCACCGTCGCTTTTCTCGTCGAGATATTGGCGGTTTGCCAACTGGATAACCACGCCCTGGGACTCAAGGGCGTGGATCAGCGGTAACAGACGTTTATCTTCACGGCCTTTTAAAATAA\n",
            "Reverse complement: TACGCAAGAGCGATAAACAATGTAGTTATAAAACAAGTCCATGTCAAACGTCGCGGCAGCGGTCGCGGTTGCCTAAGGTACAGTATATAATAAGGTATATCTAATTCAAATTTATAATTATTTTACTTATAAACGTTATGCATTAATAGAATGGTCGATATCTGTTTTTTTTTGGTAGGTTTAGACCTACCGAAAAGTATTAAGTCTCCTTGATCGACGCGACTGCTTGGCGAAGTTTATTCGTTTAAGGCCAACGTTGGCTTTGCAAGTCCCTTCTTTGTGAAGGACGGTAACCCTACGACTAGTTGAGTAGCGTTACAAGTGCCCAGTCCGCTGCGTATGGAAGTGGAAGGCGCGGGTAGTGGTCGCGGTCCGCAGGCCAGTAAAACGAAACTATCTCGCATACTAGGCGGAGTGGACGGCATGGCTGCTAGGTCTATAAGAGAAGGACGTTGTATGCGTACCACGCGCGTTCCAATCAGTGGGCTTAGTCACCTTGCGAAAGACGGCGCGGCGTCCGATGAAAAAAGCGGCACCGCAACTCGACACGCCTCGCTAGAAAGCCGTGTTAGTGGCGCACTTGCGGTCGTCGCAGGCGCGATGCGTCCGTGCGCGGCTCCAACACGCCTAGCCAATGTGGCAGCTCCTAGTCGTCCTTGCCAACTAGCTCGCTTCGCTAGTCTAGGCCGTCTAGCAAAAGGACCATGACTGCAGGACCGAAGTGCGCCCGCTATTACGGGACTACGTGCCGTGGCAGCGAAAAGAGCAGCTCTATAACCGCCAAACGGTTGACCTATTGGTGCGGGACCCTGAGTTCCCGCACCTAGTCGCCATTGTCTGCAAATAGAAGTGCCGGAAAATTTTATT\n",
            "0.8333333333333334\n"
          ]
        }
      ]
    },
    {
      "cell_type": "code",
      "source": [],
      "metadata": {
        "id": "MlcWiEr6CcQ_"
      },
      "execution_count": null,
      "outputs": []
    }
  ],
  "metadata": {
    "colab": {
      "provenance": []
    },
    "kernelspec": {
      "display_name": "Python 3 (ipykernel)",
      "language": "python",
      "name": "python3"
    },
    "language_info": {
      "codemirror_mode": {
        "name": "ipython",
        "version": 3
      },
      "file_extension": ".py",
      "mimetype": "text/x-python",
      "name": "python",
      "nbconvert_exporter": "python",
      "pygments_lexer": "ipython3",
      "version": "3.11.5"
    }
  },
  "nbformat": 4,
  "nbformat_minor": 0
}