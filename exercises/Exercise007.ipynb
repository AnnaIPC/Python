{
  "cells": [
    {
      "cell_type": "markdown",
      "metadata": {
        "id": "YZyevmLCgYPB"
      },
      "source": [
        "# Exercise 007"
      ]
    },
    {
      "cell_type": "markdown",
      "metadata": {
        "id": "idtNqXkegYPD",
        "tags": []
      },
      "source": [
        "<a href=\"https://colab.research.google.com/github/FAIRChemistry/PythonProgramming2025/blob/master/exercises/Exercise007.ipynb\" target=\"_parent\"><img src=\"https://colab.research.google.com/assets/colab-badge.svg\" alt=\"Open In Colab\"/></a>"
      ]
    },
    {
      "cell_type": "code",
      "execution_count": 71,
      "metadata": {
        "tags": [],
        "colab": {
          "base_uri": "https://localhost:8080/"
        },
        "id": "VCzklj0boynT",
        "outputId": "87056725-b844-4c6b-de6b-3e512903a10a"
      },
      "outputs": [
        {
          "output_type": "stream",
          "name": "stdout",
          "text": [
            "--2025-06-24 11:37:11--  https://raw.githubusercontent.com/JR-1991/PythonProgramming2025/master/scripts/utils.py\n",
            "Resolving raw.githubusercontent.com (raw.githubusercontent.com)... 185.199.111.133, 185.199.109.133, 185.199.110.133, ...\n",
            "Connecting to raw.githubusercontent.com (raw.githubusercontent.com)|185.199.111.133|:443... connected.\n",
            "HTTP request sent, awaiting response... 200 OK\n",
            "Length: 1411 (1.4K) [text/plain]\n",
            "Saving to: ‘utils.py.3’\n",
            "\n",
            "\rutils.py.3            0%[                    ]       0  --.-KB/s               \rutils.py.3          100%[===================>]   1.38K  --.-KB/s    in 0s      \n",
            "\n",
            "2025-06-24 11:37:11 (17.7 MB/s) - ‘utils.py.3’ saved [1411/1411]\n",
            "\n",
            "--2025-06-24 11:37:11--  https://raw.githubusercontent.com/JR-1991/PythonProgramming2025/master/data/single_sequence.fasta\n",
            "Resolving raw.githubusercontent.com (raw.githubusercontent.com)... 185.199.109.133, 185.199.111.133, 185.199.110.133, ...\n",
            "Connecting to raw.githubusercontent.com (raw.githubusercontent.com)|185.199.109.133|:443... connected.\n",
            "HTTP request sent, awaiting response... 200 OK\n",
            "Length: 877 [text/plain]\n",
            "Saving to: ‘single_sequence.fasta.3’\n",
            "\n",
            "single_sequence.fas 100%[===================>]     877  --.-KB/s    in 0s      \n",
            "\n",
            "2025-06-24 11:37:11 (50.1 MB/s) - ‘single_sequence.fasta.3’ saved [877/877]\n",
            "\n"
          ]
        }
      ],
      "source": [
        "# Please execute this cell to download the necessary data\n",
        "!wget https://raw.githubusercontent.com/JR-1991/PythonProgramming2025/master/scripts/utils.py\n",
        "!wget https://raw.githubusercontent.com/JR-1991/PythonProgramming2025/master/data/single_sequence.fasta\n",
        "\n",
        "from utils import CODON_TABLE, to_triplets"
      ]
    },
    {
      "cell_type": "markdown",
      "metadata": {
        "id": "XbNx_QaHeEcR"
      },
      "source": [
        "# DNASequence class\n",
        "\n",
        "Construct a `DNASequence` class that contains the following attributes:\n",
        "\n",
        "* `id`\n",
        "* `sequence`\n",
        "* `organism`\n",
        "* `gc_content`\n",
        "* `length`\n",
        "* `reverse_complement`\n",
        "\n",
        "Next, implement methods for your class that perform the following tasks:\n",
        "\n",
        "* `to_amino_acid`: Converts the nucelic acid sequence to an amino acid sequence.\n",
        "* `align`: Takes another sequence and aligns it against the instance sequence.\n",
        "* `__repr__`: Define how the contents of your class should be printed.\n",
        "* `from_fasta`: Define a classmethod that parses a single FASTA entry into your class.\n",
        "\n",
        "Demonstrate your class by parsing the `single_sequence.fasta` file either manually or via the `from_fasta`-classmethod.\n",
        "\n",
        "**Tips**\n",
        "\n",
        "> * Feel free to use the `get_identity`-function of the previous exercise.\n",
        "> * When implementing the `classmethod` make sure to check if the format is correct. We have so far followed the `>[Header]\\n[Sequence]` format.\n",
        "> * Translate your sequence using the supported `to_triplets` function and `CODON_TABLE` dictionary.\n",
        "> * Not familiar with reverse complements? Find more info [here](http://genewarrior.com/docs/exp_revcomp.jsp)\n",
        "> * Dont hesitate using the `dataclass` decorator. It can help you in some ways already. Learn more on how to implement `__post_init__` to maximize customizability [here](https://docs.python.org/3/library/dataclasses.html#post-init-processing)\n",
        "> * Python lacks type validation and thus you do have limited control of what flows into your class. [PyDantic](https://docs.pydantic.dev/latest/) is an excellent tool to solve this and other issues. Try it out to make your life easier!"
      ]
    },
    {
      "cell_type": "code",
      "execution_count": 97,
      "metadata": {
        "id": "yubzZtmteEcR",
        "tags": []
      },
      "outputs": [],
      "source": [
        "class DNASequence:\n",
        "    def __init__(self, id: int, organism: str, sequence: str):\n",
        "        self.id = id\n",
        "        self.organism = organism\n",
        "        self.sequence = sequence\n",
        "        self.length = len(self.sequence)\n",
        "        self.gc_content = (self.sequence.count('G') + self.sequence.count('C')) / self.length\n",
        "    def reverse_complement(self):\n",
        "        complement_map = str.maketrans('ATCG', 'TAGC')\n",
        "        return self.sequence.translate(complement_map)\n",
        "    def to_amino_acid(self):\n",
        "        BASES = {\"A\", \"G\", \"C\", \"T\"}\n",
        "        if set(sequence) != BASES:\n",
        "           raise ValueError(f\"This sequence contains unknown bases! {set(sequence)}\")\n",
        "        if len(sequence) % 3 != 0:\n",
        "          raise ValueError(\"The sequence length should be divisible by 3!\")\n",
        "\n",
        "        amino_seq = []\n",
        "        triplets = to_triplets(sequence)\n",
        "\n",
        "        for triplet in triplets:\n",
        "            amino_acid = CODON_TABLE[triplet]\n",
        "            amino_seq.append(amino_acid)\n",
        "\n",
        "        return \"\".join(amino_seq)"
      ]
    },
    {
      "cell_type": "code",
      "source": [
        "#check\n",
        "complement_map = str.maketrans('ATCG', 'TAGC')\n",
        "sequence = \"ATGC\"\n",
        "reverse_complement = sequence.translate(complement_map)\n",
        "print(reverse_complement)  # Output: GCAT\n"
      ],
      "metadata": {
        "colab": {
          "base_uri": "https://localhost:8080/"
        },
        "id": "mBI7SJq_tinW",
        "outputId": "6de31c61-8b6b-4fdf-d242-e5d623bc55b3"
      },
      "execution_count": 89,
      "outputs": [
        {
          "output_type": "stream",
          "name": "stdout",
          "text": [
            "TACG\n"
          ]
        }
      ]
    },
    {
      "cell_type": "code",
      "source": [
        "def reading_FASTA(file_FASTA):\n",
        "  DNA_sequence = []\n",
        "  data_reading = [line.strip(\">\") for line in open(file_FASTA, \"r\")]\n",
        "  for i in range(0, len(data_reading)):\n",
        "   if i % 2 == 0:\n",
        "      organism = data_reading[i].split(\"|\", 1)[0]\n",
        "      id = data_reading[i].split(\"|\", 1)[1]\n",
        "      sequence = data_reading[i+1]\n",
        "      line = DNASequence(\n",
        "            id=id.strip(),\n",
        "            organism=organism.strip(),\n",
        "            sequence=sequence.strip()\n",
        "            )\n",
        "      DNA_sequence.append(line)\n",
        "      #print(sequence)\n",
        "  return DNA_sequence\n"
      ],
      "metadata": {
        "id": "XqMej6KApL4e"
      },
      "execution_count": 90,
      "outputs": []
    },
    {
      "cell_type": "code",
      "source": [
        "dna_sequences = reading_FASTA(\"single_sequence.fasta\")\n",
        "\n",
        "for dna in dna_sequences:\n",
        "    print(dna)\n",
        "    protein = to_amino_acid(dna.sequence)\n",
        "    print(protein)\n",
        "    print(dna.sequence)\n",
        "    print(\"Reverse complement:\", dna.reverse_complement())"
      ],
      "metadata": {
        "colab": {
          "base_uri": "https://localhost:8080/"
        },
        "id": "fcNAFrAwpQNc",
        "outputId": "570c32ad-48fc-4671-c93e-1a37d15a4b27"
      },
      "execution_count": 98,
      "outputs": [
        {
          "output_type": "stream",
          "name": "stdout",
          "text": [
            "<__main__.DNASequence object at 0x7a0d488c7290>\n",
            "MRSRYLLHQYFVQVQFAAPSPAPTDSMSYIIPYRLSLNINKMNICNT_LSYQL_TKKNHPNLDGFS_FRGTSCADEPLQISKFRLQPKRSGKKHFLPLGC_STHRNVHGSGDAYLHLPRPSPAPGVRSFCFDRAYDPPHLPYRRSRYSLPATYAWCAQG_SPESVERFLPRRRLLFSPWR_AVRSDLSAQSPRERQQRPRYAGTRRGCADRLHRRGSAGTVDRAKRSDPADRFPGTDVLASRGR_CPDARHRRFSRRDIGGLPTG_PRPGTQGRGSAVTDVYLHGLLK_\n",
            "ATGCGTTCTCGCTATTTGTTACATCAATATTTTGTTCAGGTACAGTTTGCAGCGCCGTCGCCAGCGCCAACGGATTCCATGTCATATATTATTCCATATAGATTAAGTTTAAATATTAATAAAATGAATATTTGCAATACGTAATTATCTTACCAGCTATAGACAAAAAAAAACCATCCAAATCTGGATGGCTTTTCATAATTCAGAGGAACTAGCTGCGCTGACGAACCGCTTCAAATAAGCAAATTCCGGTTGCAACCGAAACGTTCAGGGAAGAAACACTTCCTGCCATTGGGATGCTGATCAACTCATCGCAATGTTCACGGGTCAGGCGACGCATACCTTCACCTTCCGCGCCCATCACCAGCGCCAGGCGTCCGGTCATTTTGCTTTGATAGAGCGTATGATCCGCCTCACCTGCCGTACCGACGATCCAGATATTCTCTTCCTGCAACATACGCATGGTGCGCGCAAGGTTAGTCACCCGAATCAGTGGAACGCTTTCTGCCGCGCCGCAGGCTACTTTTTTCGCCGTGGCGTTGAGCTGTGCGGAGCGATCTTTCGGCACAATCACCGCGTGAACGCCAGCAGCGTCCGCGCTACGCAGGCACGCGCCGAGGTTGTGCGGATCGGTTACACCGTCGAGGATCAGCAGGAACGGTTGATCGAGCGAAGCGATCAGATCCGGCAGATCGTTTTCCTGGTACTGACGTCCTGGCTTCACGCGGGCGATAATGCCCTGATGCACGGCACCGTCGCTTTTCTCGTCGAGATATTGGCGGTTTGCCAACTGGATAACCACGCCCTGGGACTCAAGGGCGTGGATCAGCGGTAACAGACGTTTATCTTCACGGCCTTTTAAAATAA\n",
            "Reverse complement: TACGCAAGAGCGATAAACAATGTAGTTATAAAACAAGTCCATGTCAAACGTCGCGGCAGCGGTCGCGGTTGCCTAAGGTACAGTATATAATAAGGTATATCTAATTCAAATTTATAATTATTTTACTTATAAACGTTATGCATTAATAGAATGGTCGATATCTGTTTTTTTTTGGTAGGTTTAGACCTACCGAAAAGTATTAAGTCTCCTTGATCGACGCGACTGCTTGGCGAAGTTTATTCGTTTAAGGCCAACGTTGGCTTTGCAAGTCCCTTCTTTGTGAAGGACGGTAACCCTACGACTAGTTGAGTAGCGTTACAAGTGCCCAGTCCGCTGCGTATGGAAGTGGAAGGCGCGGGTAGTGGTCGCGGTCCGCAGGCCAGTAAAACGAAACTATCTCGCATACTAGGCGGAGTGGACGGCATGGCTGCTAGGTCTATAAGAGAAGGACGTTGTATGCGTACCACGCGCGTTCCAATCAGTGGGCTTAGTCACCTTGCGAAAGACGGCGCGGCGTCCGATGAAAAAAGCGGCACCGCAACTCGACACGCCTCGCTAGAAAGCCGTGTTAGTGGCGCACTTGCGGTCGTCGCAGGCGCGATGCGTCCGTGCGCGGCTCCAACACGCCTAGCCAATGTGGCAGCTCCTAGTCGTCCTTGCCAACTAGCTCGCTTCGCTAGTCTAGGCCGTCTAGCAAAAGGACCATGACTGCAGGACCGAAGTGCGCCCGCTATTACGGGACTACGTGCCGTGGCAGCGAAAAGAGCAGCTCTATAACCGCCAAACGGTTGACCTATTGGTGCGGGACCCTGAGTTCCCGCACCTAGTCGCCATTGTCTGCAAATAGAAGTGCCGGAAAATTTTATT\n"
          ]
        }
      ]
    },
    {
      "cell_type": "code",
      "source": [],
      "metadata": {
        "id": "MlcWiEr6CcQ_"
      },
      "execution_count": null,
      "outputs": []
    }
  ],
  "metadata": {
    "colab": {
      "provenance": []
    },
    "kernelspec": {
      "display_name": "Python 3 (ipykernel)",
      "language": "python",
      "name": "python3"
    },
    "language_info": {
      "codemirror_mode": {
        "name": "ipython",
        "version": 3
      },
      "file_extension": ".py",
      "mimetype": "text/x-python",
      "name": "python",
      "nbconvert_exporter": "python",
      "pygments_lexer": "ipython3",
      "version": "3.11.5"
    }
  },
  "nbformat": 4,
  "nbformat_minor": 0
}