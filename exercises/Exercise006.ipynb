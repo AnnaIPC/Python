{
  "cells": [
    {
      "cell_type": "markdown",
      "metadata": {
        "id": "YZyevmLCgYPB"
      },
      "source": [
        "# Exercise 006"
      ]
    },
    {
      "cell_type": "markdown",
      "metadata": {
        "id": "idtNqXkegYPD",
        "tags": []
      },
      "source": [
        "<a href=\"https://colab.research.google.com/github/FAIRChemistry/PythonProgramming2025/blob/master/exercises/Exercise006.ipynb\" target=\"_parent\"><img src=\"https://colab.research.google.com/assets/colab-badge.svg\" alt=\"Open In Colab\"/></a>"
      ]
    },
    {
      "cell_type": "code",
      "execution_count": 1,
      "metadata": {
        "id": "gT8TQT1ZgZO6",
        "tags": [],
        "outputId": "128bbf61-be6c-4238-c7cf-6bbd3c99a007",
        "colab": {
          "base_uri": "https://localhost:8080/"
        }
      },
      "outputs": [
        {
          "output_type": "stream",
          "name": "stdout",
          "text": [
            "--2025-06-17 09:59:52--  https://raw.githubusercontent.com/JR-1991/PythonProgramming2025/master/data/all_sequences.fasta\n",
            "Resolving raw.githubusercontent.com (raw.githubusercontent.com)... 185.199.110.133, 185.199.108.133, 185.199.111.133, ...\n",
            "Connecting to raw.githubusercontent.com (raw.githubusercontent.com)|185.199.110.133|:443... connected.\n",
            "HTTP request sent, awaiting response... 200 OK\n",
            "Length: 2940315 (2.8M) [text/plain]\n",
            "Saving to: ‘all_sequences.fasta’\n",
            "\n",
            "all_sequences.fasta 100%[===================>]   2.80M  --.-KB/s    in 0.1s    \n",
            "\n",
            "2025-06-17 09:59:53 (26.1 MB/s) - ‘all_sequences.fasta’ saved [2940315/2940315]\n",
            "\n"
          ]
        }
      ],
      "source": [
        "# Please execute this cell to download the necessary data\n",
        "!wget https://raw.githubusercontent.com/JR-1991/PythonProgramming2025/master/data/all_sequences.fasta"
      ]
    },
    {
      "cell_type": "markdown",
      "metadata": {
        "id": "XbNx_QaHeEcR"
      },
      "source": [
        "# DNASequence class\n",
        "\n",
        "Read the FASTA file `all_sequences.fasta` and store header info and sequence in a suitable class. Make sure that at the initialization of the object, the following atrributes are present:\n",
        "\n",
        "* `id`\n",
        "* `organism`\n",
        "* `sequence`\n",
        "* `gc_content`\n",
        "* `length`\n",
        "\n",
        "**Tips**\n",
        "\n",
        "> * Your `__init__`-method arguments do not have to contain all expected attributes if you can derive them from another attribute. The `__init__`-method is a function and you can execute any code you want upon initialization. Make sure to assign your calculation to the appropriate attribute via `self.xyz`.\n",
        "> * [Dataclasses](https://docs.python.org/3/library/dataclasses.html) are a convinient way to create classes that simply hold data. You can make use of them to simplify the process due to the automatic generation of a `__init__`-method. But keep in mind that this excludes additional calculation you would have otherwise put into your custom `__init__`-method."
      ]
    },
    {
      "cell_type": "code",
      "execution_count": 16,
      "metadata": {
        "id": "yubzZtmteEcR",
        "tags": []
      },
      "outputs": [],
      "source": [
        "class DNASequence:\n",
        "  def _init_(self, id: int, organism: str, sequence: str):\n",
        "    self.id = id\n",
        "    self.organism = organism\n",
        "    self.sequence = sequence\n",
        "    length = len(self.sequence)\n",
        "    self.length = length\n",
        "    gc_content = (self.sequence.count('G') + self.sequence.count('C')) / self.length\n",
        "    self.gc_content = gc_content\n",
        "    print(id, organism, sequence, gc_content, length)"
      ]
    },
    {
      "cell_type": "code",
      "source": [
        " def reading_FASTA(file_FASTA):\n",
        "  DNA_sequences = []\n",
        "  data_reading = [line.strip() for line in open(file_FASTA, \"r\")]\n",
        "  for i in range(0, len(data_reading)):\n",
        "   if i % 2 == 0:\n",
        "      organism = data_reading[i].split(\"|\", 1)[0]\n",
        "      id = data_reading[i].split(\"|\", 1)[1]\n",
        "      sequence = data_reading[i+1]\n",
        "      line = DNASequence(\n",
        "            id=id.strip(),\n",
        "            organism=organism.strip(),\n",
        "            sequence=organism.strip()\n",
        "            )\n",
        "      DNA_sequences.append(line)\n",
        "  return DNA_sequences\n",
        "\n",
        "all_sequences = reading_FASTA(\"all_sequences.fasta\")\n",
        "print(all_sequences[1])"
      ],
      "metadata": {
        "id": "jBgRhaIGX9m6",
        "outputId": "7e9c7992-07b0-4fc9-a4e5-07dfde0b67a1",
        "colab": {
          "base_uri": "https://localhost:8080/",
          "height": 315
        }
      },
      "execution_count": 15,
      "outputs": [
        {
          "output_type": "error",
          "ename": "TypeError",
          "evalue": "DNASequence() takes no arguments",
          "traceback": [
            "\u001b[0;31m---------------------------------------------------------------------------\u001b[0m",
            "\u001b[0;31mTypeError\u001b[0m                                 Traceback (most recent call last)",
            "\u001b[0;32m<ipython-input-15-639888081>\u001b[0m in \u001b[0;36m<cell line: 0>\u001b[0;34m()\u001b[0m\n\u001b[1;32m     15\u001b[0m  \u001b[0;32mreturn\u001b[0m \u001b[0mDNA_sequences\u001b[0m\u001b[0;34m\u001b[0m\u001b[0;34m\u001b[0m\u001b[0m\n\u001b[1;32m     16\u001b[0m \u001b[0;34m\u001b[0m\u001b[0m\n\u001b[0;32m---> 17\u001b[0;31m \u001b[0mall_sequences\u001b[0m \u001b[0;34m=\u001b[0m \u001b[0mreading_FASTA\u001b[0m\u001b[0;34m(\u001b[0m\u001b[0;34m\"all_sequences.fasta\"\u001b[0m\u001b[0;34m)\u001b[0m\u001b[0;34m\u001b[0m\u001b[0;34m\u001b[0m\u001b[0m\n\u001b[0m\u001b[1;32m     18\u001b[0m \u001b[0mprint\u001b[0m\u001b[0;34m(\u001b[0m\u001b[0mall_sequences\u001b[0m\u001b[0;34m[\u001b[0m\u001b[0;36m1\u001b[0m\u001b[0;34m]\u001b[0m\u001b[0;34m)\u001b[0m\u001b[0;34m\u001b[0m\u001b[0;34m\u001b[0m\u001b[0m\n",
            "\u001b[0;32m<ipython-input-15-639888081>\u001b[0m in \u001b[0;36mreading_FASTA\u001b[0;34m(file_FASTA)\u001b[0m\n\u001b[1;32m      7\u001b[0m      \u001b[0mid\u001b[0m \u001b[0;34m=\u001b[0m \u001b[0mdata_reading\u001b[0m\u001b[0;34m[\u001b[0m\u001b[0mi\u001b[0m\u001b[0;34m]\u001b[0m\u001b[0;34m.\u001b[0m\u001b[0msplit\u001b[0m\u001b[0;34m(\u001b[0m\u001b[0;34m\"|\"\u001b[0m\u001b[0;34m,\u001b[0m \u001b[0;36m1\u001b[0m\u001b[0;34m)\u001b[0m\u001b[0;34m[\u001b[0m\u001b[0;36m1\u001b[0m\u001b[0;34m]\u001b[0m\u001b[0;34m\u001b[0m\u001b[0;34m\u001b[0m\u001b[0m\n\u001b[1;32m      8\u001b[0m      \u001b[0msequence\u001b[0m \u001b[0;34m=\u001b[0m \u001b[0mdata_reading\u001b[0m\u001b[0;34m[\u001b[0m\u001b[0mi\u001b[0m\u001b[0;34m+\u001b[0m\u001b[0;36m1\u001b[0m\u001b[0;34m]\u001b[0m\u001b[0;34m\u001b[0m\u001b[0;34m\u001b[0m\u001b[0m\n\u001b[0;32m----> 9\u001b[0;31m      line = DNASequence(\n\u001b[0m\u001b[1;32m     10\u001b[0m            \u001b[0mid\u001b[0m\u001b[0;34m=\u001b[0m\u001b[0mid\u001b[0m\u001b[0;34m.\u001b[0m\u001b[0mstrip\u001b[0m\u001b[0;34m(\u001b[0m\u001b[0;34m)\u001b[0m\u001b[0;34m,\u001b[0m\u001b[0;34m\u001b[0m\u001b[0;34m\u001b[0m\u001b[0m\n\u001b[1;32m     11\u001b[0m            \u001b[0morganism\u001b[0m\u001b[0;34m=\u001b[0m\u001b[0morganism\u001b[0m\u001b[0;34m.\u001b[0m\u001b[0mstrip\u001b[0m\u001b[0;34m(\u001b[0m\u001b[0;34m)\u001b[0m\u001b[0;34m,\u001b[0m\u001b[0;34m\u001b[0m\u001b[0;34m\u001b[0m\u001b[0m\n",
            "\u001b[0;31mTypeError\u001b[0m: DNASequence() takes no arguments"
          ]
        }
      ]
    },
    {
      "cell_type": "markdown",
      "metadata": {
        "id": "2uND38-7eEcR"
      },
      "source": [
        "## Magic Methods - Alignment by `==`\n",
        "\n",
        "Can you extend the class to output the identity between the two sequences (stored as an attribute) when the `==` comparison operator is used? Apply the implementation to two sequences that you have chosen and use the supplied `get_identity` function.\n",
        "\n",
        "Learn more about [Magic methods](https://realpython.com/python-magic-methods/)"
      ]
    },
    {
      "cell_type": "code",
      "execution_count": null,
      "metadata": {
        "id": "VZDItAGxUyvN"
      },
      "outputs": [],
      "source": [
        "# Execute this cell to install all necessary packages\n",
        "%pip install biopython"
      ]
    },
    {
      "cell_type": "code",
      "execution_count": null,
      "metadata": {
        "tags": [],
        "id": "4THfYC7bUyvO"
      },
      "outputs": [],
      "source": [
        "# Execute this cell to use the alignment function\n",
        "from Bio import pairwise2\n",
        "\n",
        "\n",
        "def get_identity(seq1: str, seq2: str):\n",
        "    \"\"\"Aligns two sequences using BioPython\n",
        "\n",
        "    Args:\n",
        "        seq1 (str): Query sequence to align to\n",
        "        seq2 (str): Target sequence to align with\n",
        "\n",
        "    Returns:\n",
        "        float: Identity of the resulting alignment\n",
        "\n",
        "    \"\"\"\n",
        "    return pairwise2.align.globalxx(seq1, seq2, score_only=True) / len(seq1)"
      ]
    },
    {
      "cell_type": "code",
      "execution_count": null,
      "metadata": {
        "id": "X0cB0raLeEcS",
        "tags": []
      },
      "outputs": [],
      "source": [
        "# Enter Code gere"
      ]
    }
  ],
  "metadata": {
    "colab": {
      "provenance": []
    },
    "kernelspec": {
      "display_name": "Python 3 (ipykernel)",
      "language": "python",
      "name": "python3"
    },
    "language_info": {
      "codemirror_mode": {
        "name": "ipython",
        "version": 3
      },
      "file_extension": ".py",
      "mimetype": "text/x-python",
      "name": "python",
      "nbconvert_exporter": "python",
      "pygments_lexer": "ipython3",
      "version": "3.11.5"
    }
  },
  "nbformat": 4,
  "nbformat_minor": 0
}